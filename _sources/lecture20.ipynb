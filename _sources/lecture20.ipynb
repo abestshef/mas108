{
 "cells": [
  {
   "cell_type": "markdown",
   "id": "79e4538a",
   "metadata": {},
   "source": [
    "## Lecture 20. The muddiest point: part III\n",
    "\n",
    "As with Lectures 7 and 14 , today we will focus on answering any questions from the module so far that you have. These could be related to revisiting material covered that you might have found tricky, or going through some of the exercises I have set, or any other question. You can either email me beforehand with any questions, or you can ask questions in class. There will be no new material in this lecture.\n",
    "\n",
    "## Lecture 20 Homework exercises\n",
    "\n",
    "Catch up on any of the exercises from the previous lectures that you have not yet done."
   ]
  }
 ],
 "metadata": {
  "kernelspec": {
   "display_name": "Python 3 (ipykernel)",
   "language": "python",
   "name": "python3"
  },
  "language_info": {
   "codemirror_mode": {
    "name": "ipython",
    "version": 3
   },
   "file_extension": ".py",
   "mimetype": "text/x-python",
   "name": "python",
   "nbconvert_exporter": "python",
   "pygments_lexer": "ipython3",
   "version": "3.11.4"
  }
 },
 "nbformat": 4,
 "nbformat_minor": 5
}
