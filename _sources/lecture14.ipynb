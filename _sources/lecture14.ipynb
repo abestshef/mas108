{
 "cells": [
  {
   "cell_type": "markdown",
   "id": "1d60c246",
   "metadata": {},
   "source": [
    "## Lecture 14. The muddiest point: part II\n",
    "\n",
    "As with Lecture 7, today we will focus on answering any questions from the module so far that you have. These could be related to revisiting material covered that you might have found tricky, or going through some of the exercises I have set, or any other question. You can either email me beforehand with any questions, or you can ask questions in class. There will be no new material in this lecture.\n",
    "\n",
    "## Lecture 14 Homework exercises\n",
    "\n",
    "Catch up on any of the exercises from the previous lectures that you have not yet done."
   ]
  },
  {
   "cell_type": "code",
   "execution_count": null,
   "id": "407a74bc",
   "metadata": {},
   "outputs": [],
   "source": []
  }
 ],
 "metadata": {
  "kernelspec": {
   "display_name": "Python 3 (ipykernel)",
   "language": "python",
   "name": "python3"
  },
  "language_info": {
   "codemirror_mode": {
    "name": "ipython",
    "version": 3
   },
   "file_extension": ".py",
   "mimetype": "text/x-python",
   "name": "python",
   "nbconvert_exporter": "python",
   "pygments_lexer": "ipython3",
   "version": "3.11.4"
  }
 },
 "nbformat": 4,
 "nbformat_minor": 5
}
