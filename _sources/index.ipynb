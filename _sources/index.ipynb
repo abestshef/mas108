{
 "cells": [
  {
   "cell_type": "markdown",
   "id": "bffd1008",
   "metadata": {},
   "source": [
    "# MAS108: Mathematical Modelling\n",
    "\n",
    "Dr. Alex Best - Hicks G27b - <a.best@shef.ac.uk> "
   ]
  },
  {
   "cell_type": "markdown",
   "id": "28c54127",
   "metadata": {},
   "source": [
    "# Introduction to the module\n",
    " \n",
    "Welcome to the webpages and learning materials for MAS108.\n",
    "\n",
    "Below are some key details about the module:\n",
    "```{admonition} Lecture notes\n",
    "\n",
    "There are both online lecture notes and printed copies. These detail all the mathematical knowledge you need for this semester of MAS108. Please have a copy - either printed or online - with you when at the lectures as I will refer to them.\n",
    "```\n",
    "```{admonition} Blackboard\n",
    "\n",
    "This is the online repository for all information about the module. Please check this regularly (you will also get email updates).\n",
    "```\n",
    "```{admonition} Obtaining help with the module\n",
    "\n",
    "Please use the Dicussion Board on Blackboard to ask questions in the first instance - I will check this regularly. You are also strongly encouraged to come along to my student drop-in hours for in-person help.\n",
    "```\n",
    "```{admonition} Homework and practice questions\n",
    "\n",
    "At the end of each lecture, there are some homework exercises. We may cover a small number of these in the lectures, but the rest you should do for homework after each lecture. Some of these I ask you to hand in so you can obtain feedback on your work: you can see which questions on the ‘Assignment sheet’ on Blackboard. These do not count towards your final grade.\n",
    "```\n",
    "```{admonition} Tutorials\n",
    "\n",
    "There will be small-group tutorials where you will be able to obtain help on the practice questions. More details will be given via Blackboard.\n",
    "```\n",
    "```{admonition} Assessment\n",
    "\n",
    "20% of your mark for the whole module will be on a project to be done around January time. Details are on the project worksheet itself, which will be on Blackboard in plenty of time for you to complete the project. The remaining 80% will be assessed via an invigilated exam at the end of the year.\n",
    "```\n",
    "```{admonition} Lectures\n",
    "\n",
    "You are encouraged to engage in **active learning**. I will encourage you to complete bits of working, discuss with your neighbour and vote on various aspects during lectures. I hope for there to be a welcoming and inclusive environment in our lectures. If you feel you are not fully welcomed in the classes for any reason, please think about coming for a chat during an office hour.\n",
    "```"
   ]
  },
  {
   "cell_type": "code",
   "execution_count": null,
   "id": "e032a6fa",
   "metadata": {},
   "outputs": [],
   "source": []
  }
 ],
 "metadata": {
  "kernelspec": {
   "display_name": "Python 3 (ipykernel)",
   "language": "python",
   "name": "python3"
  },
  "language_info": {
   "codemirror_mode": {
    "name": "ipython",
    "version": 3
   },
   "file_extension": ".py",
   "mimetype": "text/x-python",
   "name": "python",
   "nbconvert_exporter": "python",
   "pygments_lexer": "ipython3",
   "version": "3.11.4"
  }
 },
 "nbformat": 4,
 "nbformat_minor": 5
}
